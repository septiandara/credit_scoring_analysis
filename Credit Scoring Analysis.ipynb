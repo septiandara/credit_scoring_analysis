{
 "cells": [
  {
   "cell_type": "markdown",
   "metadata": {},
   "source": [
    "# Credit Scoring Analysis"
   ]
  },
  {
   "cell_type": "markdown",
   "metadata": {},
   "source": [
    "## Introduction\n",
    "<a name=\"introduction\"></a>\n",
    "\n",
    "A set of borrowers' data have been provided for analysis on the relations between various characteristics of each borrowers and their ability to repay a loan. The dataset will be processed to avoid or minimise skewed analysis, such as replacing missing values, removing duplicates and categorising the existing variables. This report will consist of the following:\n",
    "\n",
    "1. General information on the dataset\n",
    "2. Data preprocessing stages\n",
    "3. Analysis on the relations between loan repayment and various borrowers' characteristics such as marital status, number of children, income level, loan purpose\n",
    "\n",
    "Based on the conclusions drawn in this report, it will help the bank executives to make better decisions on choosing which potential borrower to give out loan to."
   ]
  },
  {
   "cell_type": "markdown",
   "metadata": {},
   "source": [
    "### Table of contents\n",
    "1. [Introduction](#introduction)\n",
    "2. [Data Preprocessing](#dpp)\n",
    "3. [Exploratory Data Analysis](#eda)\n",
    "4. [Conclusion](#cons)"
   ]
  },
  {
   "cell_type": "code",
   "execution_count": 1,
   "metadata": {},
   "outputs": [],
   "source": [
    "import pandas as pd\n",
    "import numpy as np\n",
    "import nltk\n",
    "from nltk.stem import SnowballStemmer\n",
    "import matplotlib.pyplot as plt\n",
    "import seaborn as sns\n",
    "import math as mt\n",
    "from math import factorial\n",
    "from scipy import stats as st\n",
    "import warnings\n",
    "warnings.filterwarnings(\"ignore\")"
   ]
  },
  {
   "cell_type": "code",
   "execution_count": 2,
   "metadata": {},
   "outputs": [],
   "source": [
    "# read the .csv file\n",
    "try:\n",
    "    loan_data = pd.read_csv('credit_scoring_eng.csv')\n",
    "except:\n",
    "    loan_data = pd.read_csv('/datasets/credit_scoring_eng.csv')"
   ]
  },
  {
   "cell_type": "code",
   "execution_count": 3,
   "metadata": {},
   "outputs": [
    {
     "name": "stdout",
     "output_type": "stream",
     "text": [
      "<class 'pandas.core.frame.DataFrame'>\n",
      "RangeIndex: 21525 entries, 0 to 21524\n",
      "Data columns (total 12 columns):\n",
      " #   Column            Non-Null Count  Dtype  \n",
      "---  ------            --------------  -----  \n",
      " 0   children          21525 non-null  int64  \n",
      " 1   days_employed     19351 non-null  float64\n",
      " 2   dob_years         21525 non-null  int64  \n",
      " 3   education         21525 non-null  object \n",
      " 4   education_id      21525 non-null  int64  \n",
      " 5   family_status     21525 non-null  object \n",
      " 6   family_status_id  21525 non-null  int64  \n",
      " 7   gender            21525 non-null  object \n",
      " 8   income_type       21525 non-null  object \n",
      " 9   debt              21525 non-null  int64  \n",
      " 10  total_income      19351 non-null  float64\n",
      " 11  purpose           21525 non-null  object \n",
      "dtypes: float64(2), int64(5), object(5)\n",
      "memory usage: 2.0+ MB\n"
     ]
    }
   ],
   "source": [
    "loan_data.info()"
   ]
  },
  {
   "cell_type": "code",
   "execution_count": 4,
   "metadata": {},
   "outputs": [
    {
     "data": {
      "text/html": [
       "<div>\n",
       "<style scoped>\n",
       "    .dataframe tbody tr th:only-of-type {\n",
       "        vertical-align: middle;\n",
       "    }\n",
       "\n",
       "    .dataframe tbody tr th {\n",
       "        vertical-align: top;\n",
       "    }\n",
       "\n",
       "    .dataframe thead th {\n",
       "        text-align: right;\n",
       "    }\n",
       "</style>\n",
       "<table border=\"1\" class=\"dataframe\">\n",
       "  <thead>\n",
       "    <tr style=\"text-align: right;\">\n",
       "      <th></th>\n",
       "      <th>children</th>\n",
       "      <th>days_employed</th>\n",
       "      <th>dob_years</th>\n",
       "      <th>education</th>\n",
       "      <th>education_id</th>\n",
       "      <th>family_status</th>\n",
       "      <th>family_status_id</th>\n",
       "      <th>gender</th>\n",
       "      <th>income_type</th>\n",
       "      <th>debt</th>\n",
       "      <th>total_income</th>\n",
       "      <th>purpose</th>\n",
       "    </tr>\n",
       "  </thead>\n",
       "  <tbody>\n",
       "    <tr>\n",
       "      <th>0</th>\n",
       "      <td>1</td>\n",
       "      <td>-8437.673028</td>\n",
       "      <td>42</td>\n",
       "      <td>bachelor's degree</td>\n",
       "      <td>0</td>\n",
       "      <td>married</td>\n",
       "      <td>0</td>\n",
       "      <td>F</td>\n",
       "      <td>employee</td>\n",
       "      <td>0</td>\n",
       "      <td>40620.102</td>\n",
       "      <td>purchase of the house</td>\n",
       "    </tr>\n",
       "    <tr>\n",
       "      <th>1</th>\n",
       "      <td>1</td>\n",
       "      <td>-4024.803754</td>\n",
       "      <td>36</td>\n",
       "      <td>secondary education</td>\n",
       "      <td>1</td>\n",
       "      <td>married</td>\n",
       "      <td>0</td>\n",
       "      <td>F</td>\n",
       "      <td>employee</td>\n",
       "      <td>0</td>\n",
       "      <td>17932.802</td>\n",
       "      <td>car purchase</td>\n",
       "    </tr>\n",
       "    <tr>\n",
       "      <th>2</th>\n",
       "      <td>0</td>\n",
       "      <td>-5623.422610</td>\n",
       "      <td>33</td>\n",
       "      <td>Secondary Education</td>\n",
       "      <td>1</td>\n",
       "      <td>married</td>\n",
       "      <td>0</td>\n",
       "      <td>M</td>\n",
       "      <td>employee</td>\n",
       "      <td>0</td>\n",
       "      <td>23341.752</td>\n",
       "      <td>purchase of the house</td>\n",
       "    </tr>\n",
       "    <tr>\n",
       "      <th>3</th>\n",
       "      <td>3</td>\n",
       "      <td>-4124.747207</td>\n",
       "      <td>32</td>\n",
       "      <td>secondary education</td>\n",
       "      <td>1</td>\n",
       "      <td>married</td>\n",
       "      <td>0</td>\n",
       "      <td>M</td>\n",
       "      <td>employee</td>\n",
       "      <td>0</td>\n",
       "      <td>42820.568</td>\n",
       "      <td>supplementary education</td>\n",
       "    </tr>\n",
       "    <tr>\n",
       "      <th>4</th>\n",
       "      <td>0</td>\n",
       "      <td>340266.072047</td>\n",
       "      <td>53</td>\n",
       "      <td>secondary education</td>\n",
       "      <td>1</td>\n",
       "      <td>civil partnership</td>\n",
       "      <td>1</td>\n",
       "      <td>F</td>\n",
       "      <td>retiree</td>\n",
       "      <td>0</td>\n",
       "      <td>25378.572</td>\n",
       "      <td>to have a wedding</td>\n",
       "    </tr>\n",
       "  </tbody>\n",
       "</table>\n",
       "</div>"
      ],
      "text/plain": [
       "   children  days_employed  dob_years            education  education_id  \\\n",
       "0         1   -8437.673028         42    bachelor's degree             0   \n",
       "1         1   -4024.803754         36  secondary education             1   \n",
       "2         0   -5623.422610         33  Secondary Education             1   \n",
       "3         3   -4124.747207         32  secondary education             1   \n",
       "4         0  340266.072047         53  secondary education             1   \n",
       "\n",
       "       family_status  family_status_id gender income_type  debt  total_income  \\\n",
       "0            married                 0      F    employee     0     40620.102   \n",
       "1            married                 0      F    employee     0     17932.802   \n",
       "2            married                 0      M    employee     0     23341.752   \n",
       "3            married                 0      M    employee     0     42820.568   \n",
       "4  civil partnership                 1      F     retiree     0     25378.572   \n",
       "\n",
       "                   purpose  \n",
       "0    purchase of the house  \n",
       "1             car purchase  \n",
       "2    purchase of the house  \n",
       "3  supplementary education  \n",
       "4        to have a wedding  "
      ]
     },
     "execution_count": 4,
     "metadata": {},
     "output_type": "execute_result"
    }
   ],
   "source": [
    "loan_data.head()"
   ]
  },
  {
   "cell_type": "markdown",
   "metadata": {},
   "source": [
    "### Preliminary Conclusion\n",
    "\n",
    "1. The dataset has 12 columns, consisting of quantitative and categorical data. \n",
    "2. There is no customer_id column which means that the borrowers may take multiple loans at the bank.\n",
    "3. There are some missing values in days_employed and total_income columns. \n",
    "4. Based on the value_counts on each of the quantitative data columns, there are some data that doesn't correspond with reality, e.g. negative values or really large numbers on children and days_employed, age showing 0, gender showing XNA\n",
    "\n",
    "\n",
    "By initially looking at the dataset and general information about the data, the structure of the data is starting to show. We can now proceed to process the data for the missing values, different data types and categorisation to prepare us for further analysis."
   ]
  },
  {
   "cell_type": "markdown",
   "metadata": {},
   "source": [
    "## Data Preprocessing\n",
    "<a name=\"dpp\"></a>"
   ]
  },
  {
   "cell_type": "markdown",
   "metadata": {},
   "source": [
    "### Processing Missing Values"
   ]
  },
  {
   "cell_type": "code",
   "execution_count": 5,
   "metadata": {},
   "outputs": [
    {
     "data": {
      "text/html": [
       "<div>\n",
       "<style scoped>\n",
       "    .dataframe tbody tr th:only-of-type {\n",
       "        vertical-align: middle;\n",
       "    }\n",
       "\n",
       "    .dataframe tbody tr th {\n",
       "        vertical-align: top;\n",
       "    }\n",
       "\n",
       "    .dataframe thead th {\n",
       "        text-align: right;\n",
       "    }\n",
       "</style>\n",
       "<table border=\"1\" class=\"dataframe\">\n",
       "  <thead>\n",
       "    <tr style=\"text-align: right;\">\n",
       "      <th></th>\n",
       "      <th>missing_values</th>\n",
       "      <th>% of total</th>\n",
       "    </tr>\n",
       "  </thead>\n",
       "  <tbody>\n",
       "    <tr>\n",
       "      <th>days_employed</th>\n",
       "      <td>2174</td>\n",
       "      <td>10.0</td>\n",
       "    </tr>\n",
       "    <tr>\n",
       "      <th>total_income</th>\n",
       "      <td>2174</td>\n",
       "      <td>10.0</td>\n",
       "    </tr>\n",
       "    <tr>\n",
       "      <th>children</th>\n",
       "      <td>0</td>\n",
       "      <td>0.0</td>\n",
       "    </tr>\n",
       "    <tr>\n",
       "      <th>dob_years</th>\n",
       "      <td>0</td>\n",
       "      <td>0.0</td>\n",
       "    </tr>\n",
       "    <tr>\n",
       "      <th>education</th>\n",
       "      <td>0</td>\n",
       "      <td>0.0</td>\n",
       "    </tr>\n",
       "  </tbody>\n",
       "</table>\n",
       "</div>"
      ],
      "text/plain": [
       "               missing_values  % of total\n",
       "days_employed            2174        10.0\n",
       "total_income             2174        10.0\n",
       "children                    0         0.0\n",
       "dob_years                   0         0.0\n",
       "education                   0         0.0"
      ]
     },
     "execution_count": 5,
     "metadata": {},
     "output_type": "execute_result"
    }
   ],
   "source": [
    "# check the percentage of missing values in dataset\n",
    "report = loan_data.isna().sum().to_frame()\n",
    "report = report.rename(columns = {0: 'missing_values'})\n",
    "report['% of total'] = (report['missing_values'] / loan_data.shape[0]).round(2) * 100\n",
    "report.sort_values(by = 'missing_values', ascending = False).head()"
   ]
  },
  {
   "cell_type": "code",
   "execution_count": 6,
   "metadata": {},
   "outputs": [
    {
     "name": "stdout",
     "output_type": "stream",
     "text": [
      "False    21525\n",
      "Name: days_employed, dtype: int64\n",
      "0.0\n",
      "14747.887934053397\n"
     ]
    }
   ],
   "source": [
    "# replace the negative values in days_employed columns with positive one\n",
    "loan_data.loc[loan_data['days_employed'] < 0, 'days_employed'] = loan_data.loc[loan_data['days_employed'] < 0, 'days_employed']*(-1)\n",
    "\n",
    "# calculate the possible maximum number of days employed\n",
    "max_age = loan_data['dob_years'].max()\n",
    "max_age_days = (max_age - 18) * 261 # average number of working days in a year \n",
    "max_age_days\n",
    "\n",
    "# replace the impossibly large values with 0\n",
    "loan_data.loc[loan_data['days_employed'] > max_age_days, 'days_employed'] = np.nan\n",
    "loan_data['days_employed'] = loan_data['days_employed'].fillna(value=0)\n",
    "\n",
    "# check if all missing values and impossible data are replaced\n",
    "print(loan_data['days_employed'].isna().value_counts())\n",
    "print(loan_data['days_employed'].min())\n",
    "print(loan_data['days_employed'].max())"
   ]
  },
  {
   "cell_type": "code",
   "execution_count": 7,
   "metadata": {},
   "outputs": [
    {
     "data": {
      "text/plain": [
       "0    14149\n",
       "1     4941\n",
       "2     2055\n",
       "3      330\n",
       "4       41\n",
       "5        9\n",
       "Name: children, dtype: int64"
      ]
     },
     "execution_count": 7,
     "metadata": {},
     "output_type": "execute_result"
    }
   ],
   "source": [
    "# check how much is the negative values and anomalies in the children column\n",
    "loan_data['children'].value_counts()\n",
    "\n",
    "# replace the negative values in children to zero\n",
    "loan_data['children'] = loan_data['children'].abs()\n",
    "\n",
    "# replace the anomaly (20) to 1 (the most count in people who have children group)\n",
    "loan_data.loc[loan_data['children'] > 5, 'children'] = 1\n",
    "\n",
    "loan_data['children'].value_counts()"
   ]
  },
  {
   "cell_type": "code",
   "execution_count": 8,
   "metadata": {},
   "outputs": [
    {
     "data": {
      "text/plain": [
       "F    14237\n",
       "M     7288\n",
       "Name: gender, dtype: int64"
      ]
     },
     "execution_count": 8,
     "metadata": {},
     "output_type": "execute_result"
    }
   ],
   "source": [
    "# replace the XNA in gender to female (the majority)\n",
    "loan_data.loc[loan_data['gender'] == 'XNA', 'gender'] = 'F'\n",
    "\n",
    "# check if the value is replaced\n",
    "loan_data['gender'].value_counts()"
   ]
  },
  {
   "cell_type": "code",
   "execution_count": 9,
   "metadata": {},
   "outputs": [
    {
     "data": {
      "text/plain": [
       "19"
      ]
     },
     "execution_count": 9,
     "metadata": {},
     "output_type": "execute_result"
    }
   ],
   "source": [
    "# check the anomalies in age\n",
    "loan_data['dob_years'].value_counts()\n",
    "\n",
    "# replace the anomalies with median age\n",
    "loan_data.loc[loan_data['dob_years'] == 0, 'dob_years'] = loan_data['dob_years'].median()\n",
    "\n",
    "# check if the value is replaced\n",
    "loan_data['dob_years'].min()"
   ]
  },
  {
   "cell_type": "code",
   "execution_count": 10,
   "metadata": {},
   "outputs": [],
   "source": [
    "# make the values in education all in lowercase to avoid duplicates\n",
    "loan_data['education'] = loan_data['education'].str.lower()\n",
    "\n",
    "# replace the missing values in total_income with median income based on income type and education level\n",
    "total_income_median = loan_data.groupby(['income_type', 'education'])['total_income'].median()\n",
    "\n",
    "# fill in the missing values with the median\n",
    "loan_data['total_income'] = loan_data['total_income'].fillna(loan_data.groupby(['income_type', 'education'])['total_income'].transform('median'))"
   ]
  },
  {
   "cell_type": "code",
   "execution_count": 11,
   "metadata": {},
   "outputs": [
    {
     "name": "stdout",
     "output_type": "stream",
     "text": [
      "children            0\n",
      "days_employed       0\n",
      "dob_years           0\n",
      "education           0\n",
      "education_id        0\n",
      "family_status       0\n",
      "family_status_id    0\n",
      "gender              0\n",
      "income_type         0\n",
      "debt                0\n",
      "total_income        0\n",
      "purpose             0\n",
      "dtype: int64\n"
     ]
    }
   ],
   "source": [
    "# check if there is still any missing data\n",
    "print(loan_data.isnull().sum())"
   ]
  },
  {
   "cell_type": "markdown",
   "metadata": {},
   "source": [
    "The days_employed and total_income columns have each 2174 missing values, all completely at random. It could be a mistake from the person who collected (from the bank) or filled (the borrower) the data. The missing values are and filled up as follows:\n",
    "* The values in **days_employed** are mostly a number that doesn't correspond with reality, either negative number or really large number, this is most likely due to computing or input errors. So I have decided to replace the missing values with zero then leave the column be as it's not significantly needed for analysis.\n",
    "* The missing values in **total_income** (a quantitative value column) cannot be left blank, as it will affect the analysis of this dataset, instead it was replaced with the median income of each income_type and education group.\n",
    "* While cleaning up the missing values, I have also cleaned up other data that has values which don't correspond with reality, such as **children**, **age** and **gender**. Since the amount of anomalies are not a lot, I just replaced them with values of the majority group. "
   ]
  },
  {
   "cell_type": "markdown",
   "metadata": {},
   "source": [
    "### Data Type Replacement"
   ]
  },
  {
   "cell_type": "code",
   "execution_count": 12,
   "metadata": {},
   "outputs": [
    {
     "name": "stdout",
     "output_type": "stream",
     "text": [
      "<class 'pandas.core.frame.DataFrame'>\n",
      "RangeIndex: 21525 entries, 0 to 21524\n",
      "Data columns (total 12 columns):\n",
      " #   Column            Non-Null Count  Dtype \n",
      "---  ------            --------------  ----- \n",
      " 0   children          21525 non-null  int64 \n",
      " 1   days_employed     21525 non-null  int64 \n",
      " 2   dob_years         21525 non-null  int64 \n",
      " 3   education         21525 non-null  object\n",
      " 4   education_id      21525 non-null  int64 \n",
      " 5   family_status     21525 non-null  object\n",
      " 6   family_status_id  21525 non-null  int64 \n",
      " 7   gender            21525 non-null  object\n",
      " 8   income_type       21525 non-null  object\n",
      " 9   debt              21525 non-null  int64 \n",
      " 10  total_income      21525 non-null  int64 \n",
      " 11  purpose           21525 non-null  object\n",
      "dtypes: int64(7), object(5)\n",
      "memory usage: 2.0+ MB\n"
     ]
    }
   ],
   "source": [
    "# change the float number in days_employed and total income to integers as they will simplify the analysis\n",
    "loan_data[['days_employed', 'total_income']] = loan_data[['days_employed', 'total_income']].astype('int')\n",
    "\n",
    "# check if they are changed\n",
    "loan_data.info()"
   ]
  },
  {
   "cell_type": "markdown",
   "metadata": {},
   "source": [
    "When doing the analysis with numbers, it would be a lot easier to use one type of data type, either integer or float for all of the numbers in the dataset. Days_employed and total_income are converted into integers from real numbers. "
   ]
  },
  {
   "cell_type": "markdown",
   "metadata": {},
   "source": [
    "### Processing Duplicates"
   ]
  },
  {
   "cell_type": "code",
   "execution_count": 13,
   "metadata": {},
   "outputs": [
    {
     "name": "stdout",
     "output_type": "stream",
     "text": [
      "children            72\n",
      "days_employed       72\n",
      "dob_years           72\n",
      "education           72\n",
      "education_id        72\n",
      "family_status       72\n",
      "family_status_id    72\n",
      "gender              72\n",
      "income_type         72\n",
      "debt                72\n",
      "total_income        72\n",
      "purpose             72\n",
      "dtype: int64\n"
     ]
    }
   ],
   "source": [
    "# check the amount of duplicates in the dataset\n",
    "print(loan_data[loan_data.duplicated()].count())"
   ]
  },
  {
   "cell_type": "code",
   "execution_count": 14,
   "metadata": {},
   "outputs": [
    {
     "name": "stdout",
     "output_type": "stream",
     "text": [
      "0\n"
     ]
    }
   ],
   "source": [
    "# drop the duplicates and duplicate columns\n",
    "loan_data = loan_data.drop_duplicates()\n",
    "loan_data = loan_data.drop(columns=['education_id', 'family_status_id'])\n",
    "\n",
    "# check if the duplicates are dropped\n",
    "print(loan_data.duplicated().sum())"
   ]
  },
  {
   "cell_type": "markdown",
   "metadata": {},
   "source": [
    "There are 72 duplicates in the dataset, the occurence are totally random, therefore all of these duplicates are dropped. The duplicate columns are also dropped, e.g. the \"education_id\" and \"family_status_id\"."
   ]
  },
  {
   "cell_type": "markdown",
   "metadata": {},
   "source": [
    "## Exploratory Data Analysis\n",
    "<a name=\"eda\"></a>"
   ]
  },
  {
   "cell_type": "markdown",
   "metadata": {},
   "source": [
    "#### Children and Loan Repayment"
   ]
  },
  {
   "cell_type": "code",
   "execution_count": 15,
   "metadata": {},
   "outputs": [],
   "source": [
    "# categorise the number of people with children\n",
    "loan_data['child_free'] = loan_data['children'] == 0\n",
    "repayment_status_children = loan_data.groupby('child_free')['debt'].agg(['value_counts']).reset_index()\n",
    "repayment_status_children.columns = ['no_child_status', 'default_loan', 'n_borrowers']"
   ]
  },
  {
   "cell_type": "code",
   "execution_count": 16,
   "metadata": {},
   "outputs": [
    {
     "name": "stdout",
     "output_type": "stream",
     "text": [
      "   no_child_status  default_loan  n_borrowers\n",
      "0            False             0         6685\n",
      "1            False             1          678\n",
      "2             True             0        13027\n",
      "3             True             1         1063\n",
      "\n",
      "The default rate for people with no children is 3.16%\n",
      "The default rate for people with children is 4.96%\n"
     ]
    }
   ],
   "source": [
    "# check if there is any difference between the default rate of those with and without kids \n",
    "default_rate_no_children = repayment_status_children['n_borrowers'][1] / repayment_status_children['n_borrowers'].sum()\n",
    "default_rate_children = repayment_status_children['n_borrowers'][3] / repayment_status_children['n_borrowers'].sum()\n",
    "\n",
    "print(repayment_status_children)\n",
    "print()\n",
    "print('The default rate for people with no children is {:.2%}'.format(default_rate_no_children))\n",
    "print('The default rate for people with children is {:.2%}'.format(default_rate_children))"
   ]
  },
  {
   "cell_type": "markdown",
   "metadata": {},
   "source": [
    "As suspected, people who don't have a child have lower default rate than those with children, in spite of the big difference of the amount of people with children in the dataset than those who don't have children. With that being said, the difference is not really significant. This may be due to bigger, either expected or unexpected costs of having children. If this is true, then the more amount of children people have, they would more likely to default on a loan."
   ]
  },
  {
   "cell_type": "code",
   "execution_count": 46,
   "metadata": {},
   "outputs": [],
   "source": [
    "# check further the default rate based on the amount of children people have  \n",
    "children_default_rate = loan_data.groupby('children')['debt'].agg('mean').reset_index()\n",
    "children_default_rate.columns = ['n_children', 'default_rate']"
   ]
  },
  {
   "cell_type": "code",
   "execution_count": 54,
   "metadata": {},
   "outputs": [],
   "source": [
    "children_default_rate['default_rate'] = children_default_rate['default_rate'].astype(float)"
   ]
  },
  {
   "cell_type": "code",
   "execution_count": 58,
   "metadata": {},
   "outputs": [
    {
     "data": {
      "image/png": "[encoded data removed]",
      "text/plain": [
       "<Figure size 720x432 with 1 Axes>"
      ]
     },
     "metadata": {
      "needs_background": "light"
     },
     "output_type": "display_data"
    }
   ],
   "source": [
    "ax = children_default_rate['default_rate'].plot(kind='bar', figsize=(10,6))\n",
    "ax.set_title('Number of Children and Default Rate')\n",
    "ax.set_xlabel('Children')\n",
    "ax.set_ylabel('Default Rate');\n",
    "\n",
    "for p in ax.patches:\n",
    "    width = p.get_width()\n",
    "    height = p.get_height()\n",
    "    x, y = p.get_xy() \n",
    "    ax.annotate(f'{height:.2%}', (x + width/2, y + height*1.02), ha='center')"
   ]
  },
  {
   "cell_type": "markdown",
   "metadata": {},
   "source": [
    "Based on the barplot, people who have 4 children are most likely to default on a loan, but people with 3 children default less than those with 1 child, so the amount of children don't really affect people's ability to repay a loan. People with 5 children never defaulted on their loan at all, this may be because there are only 9 people out of 21000+ in this dataset who have 5 children, so they may be the exceptions. "
   ]
  },
  {
   "cell_type": "markdown",
   "metadata": {},
   "source": [
    "#### Marriage and Loan Repayment"
   ]
  },
  {
   "cell_type": "code",
   "execution_count": 60,
   "metadata": {},
   "outputs": [],
   "source": [
    "# categorise people's marriage status\n",
    "loan_data['marriage_status'] = loan_data['family_status'] == 'married'\n",
    "repayment_status_married = loan_data.groupby('marriage_status')['debt'].agg(['value_counts']).reset_index()\n",
    "repayment_status_married.columns = ['marriage_status', 'default_loan', 'n_borrowers']"
   ]
  },
  {
   "cell_type": "code",
   "execution_count": 61,
   "metadata": {},
   "outputs": [
    {
     "name": "stdout",
     "output_type": "stream",
     "text": [
      "   marriage_status  default_loan  n_borrowers\n",
      "0            False             0         8304\n",
      "1            False             1          810\n",
      "2             True             0        11408\n",
      "3             True             1          931\n",
      "\n",
      "The default rate for people who are not married is 3.78%\n",
      "The default rate for people who are married is 4.34%\n"
     ]
    }
   ],
   "source": [
    "# check if there is any difference of the default rate between people who are and not married\n",
    "default_rate_non_married = repayment_status_married['n_borrowers'][1] / repayment_status_married['n_borrowers'].sum()\n",
    "default_rate_married = repayment_status_married['n_borrowers'][3] / repayment_status_married['n_borrowers'].sum()\n",
    "print(repayment_status_married)\n",
    "print()\n",
    "print('The default rate for people who are not married is {:.2%}'.format(default_rate_non_married))\n",
    "print('The default rate for people who are married is {:.2%}'.format(default_rate_married))"
   ]
  },
  {
   "cell_type": "markdown",
   "metadata": {},
   "source": [
    "People who are not married have lower default rate than those who are married, although the difference is not really significant. There may be some reasons to this, e.g. those in a marriage usually have a child within the first year or two, therefore additional things may be added to their expenses; or some married couples prefer one partner to stay home while the other works their job, that decreases household income and ability to repay loan on time when there's unexpected expenses."
   ]
  },
  {
   "cell_type": "code",
   "execution_count": 62,
   "metadata": {},
   "outputs": [],
   "source": [
    "# check if specific family status affect people's default rate\n",
    "marriage_default_rate = loan_data.groupby('family_status')['debt'].agg('mean').reset_index()\n",
    "marriage_default_rate.columns = ['family_status', 'default_rate']\n",
    "marriage_default_rate['default_rate'] = marriage_default_rate['default_rate'].astype(float)"
   ]
  },
  {
   "cell_type": "code",
   "execution_count": 79,
   "metadata": {},
   "outputs": [
    {
     "data": {
      "image/png": "[encoded data removed]",
      "text/plain": [
       "<Figure size 720x432 with 1 Axes>"
      ]
     },
     "metadata": {
      "needs_background": "light"
     },
     "output_type": "display_data"
    }
   ],
   "source": [
    "ax = marriage_default_rate.plot(kind='bar', x='family_status', y='default_rate', figsize=(10,6), color='coral')\n",
    "ax.set_title('Marital Status and Default Rate')\n",
    "ax.set_xlabel('Default Rate')\n",
    "ax.set_ylabel('Marital Status')\n",
    "plt.xticks(rotation=45);\n",
    "\n",
    "for p in ax.patches:\n",
    "    width = p.get_width()\n",
    "    height = p.get_height()\n",
    "    x, y = p.get_xy() \n",
    "    ax.annotate(f'{height:.2%}', (x + width/2, y + height*1.02), ha='center')"
   ]
  },
  {
   "cell_type": "markdown",
   "metadata": {},
   "source": [
    "After further inspection, widow/widower group have the least default rate, while people who are unmarried and on civil partnership rank highest with just a slight difference. This proves that married people are on the middle of the spectrum."
   ]
  },
  {
   "cell_type": "markdown",
   "metadata": {},
   "source": [
    "#### Income Levels and Loan Repayment"
   ]
  },
  {
   "cell_type": "code",
   "execution_count": 74,
   "metadata": {},
   "outputs": [
    {
     "data": {
      "text/html": [
       "<div>\n",
       "<style scoped>\n",
       "    .dataframe tbody tr th:only-of-type {\n",
       "        vertical-align: middle;\n",
       "    }\n",
       "\n",
       "    .dataframe tbody tr th {\n",
       "        vertical-align: top;\n",
       "    }\n",
       "\n",
       "    .dataframe thead th {\n",
       "        text-align: right;\n",
       "    }\n",
       "</style>\n",
       "<table border=\"1\" class=\"dataframe\">\n",
       "  <thead>\n",
       "    <tr style=\"text-align: right;\">\n",
       "      <th></th>\n",
       "      <th>default_loan</th>\n",
       "      <th>income_level</th>\n",
       "      <th>n_borrowers</th>\n",
       "    </tr>\n",
       "  </thead>\n",
       "  <tbody>\n",
       "    <tr>\n",
       "      <th>0</th>\n",
       "      <td>0</td>\n",
       "      <td>high</td>\n",
       "      <td>6620</td>\n",
       "    </tr>\n",
       "    <tr>\n",
       "      <th>1</th>\n",
       "      <td>0</td>\n",
       "      <td>low</td>\n",
       "      <td>6572</td>\n",
       "    </tr>\n",
       "    <tr>\n",
       "      <th>2</th>\n",
       "      <td>0</td>\n",
       "      <td>average</td>\n",
       "      <td>6520</td>\n",
       "    </tr>\n",
       "    <tr>\n",
       "      <th>3</th>\n",
       "      <td>1</td>\n",
       "      <td>average</td>\n",
       "      <td>632</td>\n",
       "    </tr>\n",
       "    <tr>\n",
       "      <th>4</th>\n",
       "      <td>1</td>\n",
       "      <td>low</td>\n",
       "      <td>580</td>\n",
       "    </tr>\n",
       "    <tr>\n",
       "      <th>5</th>\n",
       "      <td>1</td>\n",
       "      <td>high</td>\n",
       "      <td>529</td>\n",
       "    </tr>\n",
       "  </tbody>\n",
       "</table>\n",
       "</div>"
      ],
      "text/plain": [
       "   default_loan income_level  n_borrowers\n",
       "0             0         high         6620\n",
       "1             0          low         6572\n",
       "2             0      average         6520\n",
       "3             1      average          632\n",
       "4             1          low          580\n",
       "5             1         high          529"
      ]
     },
     "execution_count": 74,
     "metadata": {},
     "output_type": "execute_result"
    }
   ],
   "source": [
    "# categorise income into income levels \n",
    "sarray = np.sort(loan_data['total_income'])\n",
    "idx = np.array_split(sarray, 3)\n",
    "\n",
    "def income_level(income):\n",
    "    if income <= idx[0].max():\n",
    "        return 'low'\n",
    "    elif income <= idx[1].max():\n",
    "        return 'average'\n",
    "    else:\n",
    "        return 'high'\n",
    "    \n",
    "loan_data['income_group'] = loan_data['total_income'].apply(income_level)\n",
    "\n",
    "repayment_status_income = loan_data.groupby('debt')['income_group'].agg(['value_counts']).reset_index()\n",
    "repayment_status_income.columns = ['default_loan', 'income_level', 'n_borrowers']"
   ]
  },
  {
   "cell_type": "code",
   "execution_count": 75,
   "metadata": {},
   "outputs": [
    {
     "name": "stdout",
     "output_type": "stream",
     "text": [
      "   default_loan income_level  n_borrowers\n",
      "0             0         high         6620\n",
      "1             0          low         6572\n",
      "2             0      average         6520\n",
      "3             1      average          632\n",
      "4             1          low          580\n",
      "5             1         high          529\n",
      "\n",
      "The default rate for people with high income is 2.47%\n",
      "The default rate for people with average income is 2.95%\n",
      "The default rate for people with low income is 2.70%\n"
     ]
    }
   ],
   "source": [
    "# check the default rate of each income group\n",
    "default_rate_high_income = repayment_status_income['n_borrowers'][5] / repayment_status_income['n_borrowers'].sum()\n",
    "default_rate_avg_income = repayment_status_income['n_borrowers'][3] / repayment_status_income['n_borrowers'].sum()\n",
    "default_rate_low_income = repayment_status_income['n_borrowers'][4] / repayment_status_income['n_borrowers'].sum()\n",
    "print(repayment_status_income)\n",
    "print()\n",
    "print('The default rate for people with high income is {:.2%}'.format(default_rate_high_income))\n",
    "print('The default rate for people with average income is {:.2%}'.format(default_rate_avg_income))\n",
    "print('The default rate for people with low income is {:.2%}'.format(default_rate_low_income))"
   ]
  },
  {
   "cell_type": "code",
   "execution_count": 87,
   "metadata": {},
   "outputs": [],
   "source": [
    "income_edu = loan_data.pivot_table(\n",
    "            index='income_group',\n",
    "            columns='education',\n",
    "            values='debt',\n",
    "            aggfunc='mean')\n",
    "\n",
    "income_edu = income_edu.fillna('0')"
   ]
  },
  {
   "cell_type": "code",
   "execution_count": 94,
   "metadata": {},
   "outputs": [
    {
     "data": {
      "text/html": [
       "<div>\n",
       "<style scoped>\n",
       "    .dataframe tbody tr th:only-of-type {\n",
       "        vertical-align: middle;\n",
       "    }\n",
       "\n",
       "    .dataframe tbody tr th {\n",
       "        vertical-align: top;\n",
       "    }\n",
       "\n",
       "    .dataframe thead th {\n",
       "        text-align: right;\n",
       "    }\n",
       "</style>\n",
       "<table border=\"1\" class=\"dataframe\">\n",
       "  <thead>\n",
       "    <tr style=\"text-align: right;\">\n",
       "      <th>education</th>\n",
       "      <th>income_group</th>\n",
       "      <th>bachelor's degree</th>\n",
       "      <th>graduate degree</th>\n",
       "      <th>primary education</th>\n",
       "      <th>secondary education</th>\n",
       "      <th>some college</th>\n",
       "    </tr>\n",
       "  </thead>\n",
       "  <tbody>\n",
       "    <tr>\n",
       "      <th>0</th>\n",
       "      <td>average</td>\n",
       "      <td>0.062692</td>\n",
       "      <td>0</td>\n",
       "      <td>0.164557</td>\n",
       "      <td>0.096923</td>\n",
       "      <td>0.052846</td>\n",
       "    </tr>\n",
       "    <tr>\n",
       "      <th>1</th>\n",
       "      <td>high</td>\n",
       "      <td>0.049035</td>\n",
       "      <td>0.0</td>\n",
       "      <td>0.098361</td>\n",
       "      <td>0.085544</td>\n",
       "      <td>0.122581</td>\n",
       "    </tr>\n",
       "    <tr>\n",
       "      <th>2</th>\n",
       "      <td>low</td>\n",
       "      <td>0.047435</td>\n",
       "      <td>0.0</td>\n",
       "      <td>0.084507</td>\n",
       "      <td>0.086761</td>\n",
       "      <td>0.090426</td>\n",
       "    </tr>\n",
       "  </tbody>\n",
       "</table>\n",
       "</div>"
      ],
      "text/plain": [
       "education income_group  bachelor's degree graduate degree  primary education  \\\n",
       "0              average           0.062692               0           0.164557   \n",
       "1                 high           0.049035             0.0           0.098361   \n",
       "2                  low           0.047435             0.0           0.084507   \n",
       "\n",
       "education  secondary education  some college  \n",
       "0                     0.096923      0.052846  \n",
       "1                     0.085544      0.122581  \n",
       "2                     0.086761      0.090426  "
      ]
     },
     "execution_count": 94,
     "metadata": {},
     "output_type": "execute_result"
    }
   ],
   "source": [
    "income_edu"
   ]
  },
  {
   "cell_type": "code",
   "execution_count": 98,
   "metadata": {},
   "outputs": [
    {
     "data": {
      "text/html": [
       "<div>\n",
       "<style scoped>\n",
       "    .dataframe tbody tr th:only-of-type {\n",
       "        vertical-align: middle;\n",
       "    }\n",
       "\n",
       "    .dataframe tbody tr th {\n",
       "        vertical-align: top;\n",
       "    }\n",
       "\n",
       "    .dataframe thead th {\n",
       "        text-align: right;\n",
       "    }\n",
       "</style>\n",
       "<table border=\"1\" class=\"dataframe\">\n",
       "  <thead>\n",
       "    <tr style=\"text-align: right;\">\n",
       "      <th>income_type</th>\n",
       "      <th>income_group</th>\n",
       "      <th>business</th>\n",
       "      <th>civil servant</th>\n",
       "      <th>employee</th>\n",
       "      <th>entrepreneur</th>\n",
       "      <th>paternity / maternity leave</th>\n",
       "      <th>retiree</th>\n",
       "      <th>student</th>\n",
       "      <th>unemployed</th>\n",
       "    </tr>\n",
       "  </thead>\n",
       "  <tbody>\n",
       "    <tr>\n",
       "      <th>0</th>\n",
       "      <td>average</td>\n",
       "      <td>0.079365</td>\n",
       "      <td>0.054108</td>\n",
       "      <td>0.103682</td>\n",
       "      <td>0</td>\n",
       "      <td>0</td>\n",
       "      <td>0.054737</td>\n",
       "      <td>0</td>\n",
       "      <td>0</td>\n",
       "    </tr>\n",
       "    <tr>\n",
       "      <th>1</th>\n",
       "      <td>high</td>\n",
       "      <td>0.066559</td>\n",
       "      <td>0.053150</td>\n",
       "      <td>0.085723</td>\n",
       "      <td>0.0</td>\n",
       "      <td>0</td>\n",
       "      <td>0.061652</td>\n",
       "      <td>0</td>\n",
       "      <td>0.0</td>\n",
       "    </tr>\n",
       "    <tr>\n",
       "      <th>2</th>\n",
       "      <td>low</td>\n",
       "      <td>0.083984</td>\n",
       "      <td>0.071111</td>\n",
       "      <td>0.095925</td>\n",
       "      <td>0</td>\n",
       "      <td>1.0</td>\n",
       "      <td>0.055126</td>\n",
       "      <td>0.0</td>\n",
       "      <td>1.0</td>\n",
       "    </tr>\n",
       "  </tbody>\n",
       "</table>\n",
       "</div>"
      ],
      "text/plain": [
       "income_type income_group  business  civil servant  employee entrepreneur  \\\n",
       "0                average  0.079365       0.054108  0.103682            0   \n",
       "1                   high  0.066559       0.053150  0.085723          0.0   \n",
       "2                    low  0.083984       0.071111  0.095925            0   \n",
       "\n",
       "income_type paternity / maternity leave   retiree student unemployed  \n",
       "0                                     0  0.054737       0          0  \n",
       "1                                     0  0.061652       0        0.0  \n",
       "2                                   1.0  0.055126     0.0        1.0  "
      ]
     },
     "execution_count": 98,
     "metadata": {},
     "output_type": "execute_result"
    }
   ],
   "source": [
    "income_job = loan_data.pivot_table(\n",
    "            index='income_group',\n",
    "            columns='income_type',\n",
    "            values='debt',\n",
    "            aggfunc='mean')\n",
    "\n",
    "income_job.fillna('0').reset_index()"
   ]
  },
  {
   "cell_type": "markdown",
   "metadata": {},
   "source": [
    "Most studies suggest that people with zero or low income are most likely to default a loan, as they have to prioritise their income to pay for essential things such as food and shelter rather than repaying debt. \n",
    "\n",
    "**Table 1**\n",
    "By a slight margin, it turns out that people with average income has the highest default rate among three income levels. \n",
    "\n",
    "**Table 2**\n",
    "Although the highest percentage of default rate in total is coming from people with primary education and average income, the second and third highest are from people on high income level (with primary and some college education). People with average income on other education level falls either under or pretty close to the average default rate (7.45%). To be sure, we check the default rate of each income level based on another variable. \n",
    "\n",
    "**Table 3**\n",
    "People who are unemployed and on paternity/maternity leave stand out because they always defaulted on a loan, which makes sense considering they may earn really low salary to nothing. However, it's not being reflected on students or retiree. Employee with average income also stands out because they have the highest default rate after those with absolute default rate values.  "
   ]
  },
  {
   "cell_type": "markdown",
   "metadata": {},
   "source": [
    "#### Loan Purpose and Loan Repayment"
   ]
  },
  {
   "cell_type": "code",
   "execution_count": null,
   "metadata": {},
   "outputs": [],
   "source": [
    "# import the tools for words categorisation\n",
    "\n",
    "english_stemmer = SnowballStemmer('english')\n",
    "queries = loan_data['purpose'].unique()"
   ]
  },
  {
   "cell_type": "code",
   "execution_count": null,
   "metadata": {},
   "outputs": [],
   "source": [
    "# check the stemmed words to group the purposes\n",
    "for query in queries:\n",
    "    for word in query.split(' '):\n",
    "        stemmed_word = english_stemmer.stem(word)\n",
    "        print(stemmed_word)"
   ]
  },
  {
   "cell_type": "code",
   "execution_count": null,
   "metadata": {},
   "outputs": [],
   "source": [
    "# categorise the loan purpose into purpose groups\n",
    "loan_data['purpose_words'] = loan_data['purpose'].str.split().apply(\n",
    "    lambda x: [english_stemmer.stem(y) for y in x])\n",
    "def purpose_group(purpose_words):\n",
    "    if 'hous' in purpose_words or 'properti' in purpose_words or 'estat' in purpose_words:\n",
    "        return 'real_estate'\n",
    "    elif 'car' in purpose_words:\n",
    "        return 'car'\n",
    "    elif 'wed' in purpose_words:\n",
    "        return 'wedding'\n",
    "    elif 'educ' in purpose_words or 'univers' in purpose_words:\n",
    "        return 'education'\n",
    "    \n",
    "loan_data['purpose_group'] = loan_data['purpose_words'].apply(purpose_group)"
   ]
  },
  {
   "cell_type": "code",
   "execution_count": null,
   "metadata": {},
   "outputs": [],
   "source": [
    "# check if specific purpose has more significant default rate than others\n",
    "purpose_default_rate = loan_data.groupby('purpose_group')['debt'].agg('mean').reset_index()\n",
    "purpose_default_rate.columns = ['Purpose', 'Default Rate']\n",
    "percentage = []\n",
    "\n",
    "for row in purpose_default_rate['Default Rate']:\n",
    "    row_purpose = '{:.2%}'.format(row)\n",
    "    percentage.append(row_purpose)\n",
    "\n",
    "    \n",
    "purpose_default_rate['Default Rate'] = percentage\n",
    "purpose_default_rate"
   ]
  },
  {
   "cell_type": "markdown",
   "metadata": {},
   "source": [
    "* Even though there is not much difference, the highest default rate comes from car loans. This makes sense as car is a depreciating asset, has high maintenance cost, and very rarely producing money. \n",
    "* The second highest default rate is for education purposes, this may be due to the difficulty in obtaining a job with decent wage after finishing an education, which correlates to the point in the income level conclusion above, where people prioritise essential things for survival rather than repaying their loans.\n",
    "* People who obtained loan for real estate has the lowest default rate, this may be because real estate is a high-paying asset, which can be done by renting out the property or people tend to set aside a portion of their income for paying mortgage."
   ]
  },
  {
   "cell_type": "markdown",
   "metadata": {},
   "source": [
    "### Conclusion"
   ]
  },
  {
   "cell_type": "markdown",
   "metadata": {},
   "source": [
    "For data categorisation we firstly divide the dataset into categorical and quantitative data, then decide which one can be categorised in what way. The initial division is as follows:\n",
    "1. Having a child and marriage status are categorical variables, therefore can be categorised simply as \"people with children\" and \"people who don't have a child\"; or \"people who are married\" and \"people who are not married\"\n",
    "2. Total income is a quantitative variable, therefore categorised in a range of income levels, \"low\", \"average\" and \"high\".\n",
    "3. Loan purpose is categorical variable, although it is harder if we categorise it in the way we do with children and marriage status. Therefore the categorisation needs to be done using word stemming and grouping the same words into groups."
   ]
  },
  {
   "cell_type": "markdown",
   "metadata": {},
   "source": [
    "## Overall Conclusion\n",
    "<a name=\"cons\"></a>"
   ]
  },
  {
   "cell_type": "markdown",
   "metadata": {},
   "source": [
    "This report serves as an analysis of borrowers' credit history that will help the bank's loan department decide their credit-worthiness. Through the analysis, we have discovered relations between the variables in the borrower's  data and their ability to repay loan on time.\n",
    "\n",
    "The analysis was done in these steps:\n",
    "1. Looking at the general information in the dataset\n",
    "2. Replacing missing values and artifacts\n",
    "3. Processing duplicates in the dataset\n",
    "4. Changing data types for ease of analysis\n",
    "5. Categorising the variables to conduct the analysis\n",
    "\n",
    "Finally, we came to the following conclusions:\n",
    "* People with 1-20 kid(s) have higher default rate than average, so there is a relation between having kids and loan repayment, the more kids a borrower has, there is higher chance of defaulting on a loan.\n",
    "* On the first glance, it may look like people who are married are more likely to default on a loan. But after further analysis, people who are divorced, married and widowed have pretty similar default rate on the lower end of the spectrum. While people who are unmarried and on civil partnership have similar default rate as well on the higher end. Therefore it can be concluded that there is no relation between marital status and loan repayment.\n",
    "* When comparing income levels, it doesn't look like there is much difference between them. Once analysed further, it turns out that some jobs and education levels default more than others. This shows that income level on its own don't really have a relation to loan repayment, but there has to be additional variables to help with the analysis.\n",
    "* Loans taken out for buying depreciating asset are more likely to be defaulted on and vice versa. But some loan purposes are not really for tangible asset, such as weddings and education, so it doesn't impact much. More variables have to be taken into account when making credit-worthiness analysis."
   ]
  }
 ],
 "metadata": {
  "ExecuteTimeLog": [
   {
    "duration": 3300,
    "start_time": "2021-08-01T14:21:21.995Z"
   },
   {
    "duration": 41077,
    "start_time": "2021-08-01T14:20:44.222Z"
   },
   {
    "duration": 41075,
    "start_time": "2021-08-01T14:20:44.225Z"
   },
   {
    "duration": 41073,
    "start_time": "2021-08-01T14:20:44.228Z"
   },
   {
    "duration": 41072,
    "start_time": "2021-08-01T14:20:44.231Z"
   },
   {
    "duration": 41071,
    "start_time": "2021-08-01T14:20:44.233Z"
   },
   {
    "duration": 41067,
    "start_time": "2021-08-01T14:20:44.239Z"
   },
   {
    "duration": 41065,
    "start_time": "2021-08-01T14:20:44.242Z"
   },
   {
    "duration": 41062,
    "start_time": "2021-08-01T14:20:44.246Z"
   },
   {
    "duration": 41061,
    "start_time": "2021-08-01T14:20:44.249Z"
   },
   {
    "duration": 41060,
    "start_time": "2021-08-01T14:20:44.251Z"
   },
   {
    "duration": 41058,
    "start_time": "2021-08-01T14:20:44.255Z"
   },
   {
    "duration": 41051,
    "start_time": "2021-08-01T14:20:44.263Z"
   },
   {
    "duration": 41048,
    "start_time": "2021-08-01T14:20:44.268Z"
   },
   {
    "duration": 41046,
    "start_time": "2021-08-01T14:20:44.271Z"
   },
   {
    "duration": 41043,
    "start_time": "2021-08-01T14:20:44.275Z"
   },
   {
    "duration": 41042,
    "start_time": "2021-08-01T14:20:44.278Z"
   },
   {
    "duration": 41040,
    "start_time": "2021-08-01T14:20:44.281Z"
   },
   {
    "duration": 41040,
    "start_time": "2021-08-01T14:20:44.283Z"
   },
   {
    "duration": 41040,
    "start_time": "2021-08-01T14:20:44.285Z"
   },
   {
    "duration": 41038,
    "start_time": "2021-08-01T14:20:44.288Z"
   },
   {
    "duration": 41037,
    "start_time": "2021-08-01T14:20:44.290Z"
   },
   {
    "duration": 41036,
    "start_time": "2021-08-01T14:20:44.293Z"
   },
   {
    "duration": 41035,
    "start_time": "2021-08-01T14:20:44.295Z"
   },
   {
    "duration": 966,
    "start_time": "2021-08-02T06:16:47.432Z"
   },
   {
    "duration": 25,
    "start_time": "2021-08-02T06:16:48.400Z"
   },
   {
    "duration": 54,
    "start_time": "2021-08-02T06:16:48.433Z"
   },
   {
    "duration": 18,
    "start_time": "2021-08-02T06:16:48.489Z"
   },
   {
    "duration": 22,
    "start_time": "2021-08-02T06:16:48.509Z"
   },
   {
    "duration": 34,
    "start_time": "2021-08-02T06:16:48.534Z"
   },
   {
    "duration": 26,
    "start_time": "2021-08-02T06:16:48.573Z"
   },
   {
    "duration": 27,
    "start_time": "2021-08-02T06:16:48.601Z"
   },
   {
    "duration": 74,
    "start_time": "2021-08-02T06:16:48.631Z"
   },
   {
    "duration": 66,
    "start_time": "2021-08-02T06:16:48.707Z"
   },
   {
    "duration": 16,
    "start_time": "2021-08-02T06:16:48.776Z"
   },
   {
    "duration": 27,
    "start_time": "2021-08-02T06:16:48.794Z"
   },
   {
    "duration": 455,
    "start_time": "2021-08-02T06:16:48.823Z"
   },
   {
    "duration": 778,
    "start_time": "2021-08-02T06:16:49.280Z"
   },
   {
    "duration": 30,
    "start_time": "2021-08-02T06:16:50.060Z"
   },
   {
    "duration": 1323,
    "start_time": "2021-08-02T06:16:50.093Z"
   },
   {
    "duration": 8,
    "start_time": "2021-08-02T06:16:51.418Z"
   },
   {
    "duration": 44,
    "start_time": "2021-08-02T06:16:51.428Z"
   },
   {
    "duration": 11,
    "start_time": "2021-08-02T06:16:51.475Z"
   },
   {
    "duration": 37,
    "start_time": "2021-08-02T06:16:51.488Z"
   },
   {
    "duration": 18,
    "start_time": "2021-08-02T06:16:51.527Z"
   },
   {
    "duration": 39,
    "start_time": "2021-08-02T06:16:51.548Z"
   },
   {
    "duration": 42,
    "start_time": "2021-08-02T06:16:51.589Z"
   },
   {
    "duration": 17,
    "start_time": "2021-08-02T06:16:51.634Z"
   },
   {
    "duration": 89,
    "start_time": "2021-08-02T08:33:25.976Z"
   },
   {
    "duration": 620,
    "start_time": "2021-08-02T08:33:30.284Z"
   },
   {
    "duration": 976,
    "start_time": "2021-08-02T08:34:10.323Z"
   },
   {
    "duration": 284,
    "start_time": "2021-08-03T00:49:57.051Z"
   },
   {
    "duration": 901,
    "start_time": "2021-08-03T00:50:10.619Z"
   },
   {
    "duration": 24,
    "start_time": "2021-08-03T00:50:18.499Z"
   },
   {
    "duration": 14,
    "start_time": "2021-08-03T00:52:04.954Z"
   },
   {
    "duration": 10,
    "start_time": "2021-08-03T00:52:08.473Z"
   },
   {
    "duration": 11,
    "start_time": "2021-08-03T00:52:09.882Z"
   },
   {
    "duration": 11,
    "start_time": "2021-08-03T00:52:19.350Z"
   },
   {
    "duration": 10,
    "start_time": "2021-08-03T00:52:20.788Z"
   },
   {
    "duration": 20,
    "start_time": "2021-08-03T00:52:22.156Z"
   },
   {
    "duration": 9,
    "start_time": "2021-08-03T00:52:24.971Z"
   },
   {
    "duration": 21,
    "start_time": "2021-08-03T00:52:40.619Z"
   },
   {
    "duration": 21,
    "start_time": "2021-08-03T00:52:49.214Z"
   },
   {
    "duration": 9,
    "start_time": "2021-08-03T00:52:53.835Z"
   },
   {
    "duration": 77,
    "start_time": "2021-08-03T00:53:57.507Z"
   },
   {
    "duration": 10,
    "start_time": "2021-08-03T00:54:40.854Z"
   },
   {
    "duration": 13,
    "start_time": "2021-08-03T00:54:46.093Z"
   },
   {
    "duration": 15,
    "start_time": "2021-08-03T00:54:55.349Z"
   },
   {
    "duration": 26,
    "start_time": "2021-08-03T00:54:58.596Z"
   },
   {
    "duration": 33,
    "start_time": "2021-08-03T00:55:01.361Z"
   },
   {
    "duration": 10,
    "start_time": "2021-08-03T00:55:11.203Z"
   },
   {
    "duration": 11,
    "start_time": "2021-08-03T00:55:12.446Z"
   },
   {
    "duration": 255,
    "start_time": "2021-08-03T00:55:13.577Z"
   },
   {
    "duration": 551,
    "start_time": "2021-08-03T00:55:17.578Z"
   },
   {
    "duration": 14,
    "start_time": "2021-08-03T00:55:19.138Z"
   },
   {
    "duration": 653,
    "start_time": "2021-08-03T00:55:23.727Z"
   },
   {
    "duration": 6,
    "start_time": "2021-08-03T00:55:39.034Z"
   },
   {
    "duration": 15,
    "start_time": "2021-08-03T00:55:41.229Z"
   },
   {
    "duration": 7,
    "start_time": "2021-08-03T00:57:05.924Z"
   },
   {
    "duration": 10,
    "start_time": "2021-08-03T00:57:08.551Z"
   },
   {
    "duration": 7,
    "start_time": "2021-08-03T00:57:17.113Z"
   },
   {
    "duration": 15,
    "start_time": "2021-08-03T00:57:26.116Z"
   },
   {
    "duration": 16,
    "start_time": "2021-08-03T00:57:29.858Z"
   },
   {
    "duration": 11,
    "start_time": "2021-08-03T00:57:42.407Z"
   },
   {
    "duration": 6,
    "start_time": "2021-08-03T01:02:31.617Z"
   },
   {
    "duration": 1183,
    "start_time": "2021-08-03T07:21:29.182Z"
   },
   {
    "duration": 35,
    "start_time": "2021-08-03T07:21:30.367Z"
   },
   {
    "duration": 23,
    "start_time": "2021-08-03T07:21:30.405Z"
   },
   {
    "duration": 39,
    "start_time": "2021-08-03T07:21:30.431Z"
   },
   {
    "duration": 23,
    "start_time": "2021-08-03T07:21:30.472Z"
   },
   {
    "duration": 24,
    "start_time": "2021-08-03T07:21:30.498Z"
   },
   {
    "duration": 44,
    "start_time": "2021-08-03T07:21:30.524Z"
   },
   {
    "duration": 15,
    "start_time": "2021-08-03T07:21:30.571Z"
   },
   {
    "duration": 25,
    "start_time": "2021-08-03T07:21:30.589Z"
   },
   {
    "duration": 24,
    "start_time": "2021-08-03T07:21:30.616Z"
   },
   {
    "duration": 40,
    "start_time": "2021-08-03T07:21:30.642Z"
   },
   {
    "duration": 46,
    "start_time": "2021-08-03T07:21:30.684Z"
   },
   {
    "duration": 79,
    "start_time": "2021-08-03T07:21:30.732Z"
   },
   {
    "duration": 14,
    "start_time": "2021-08-03T07:21:30.814Z"
   },
   {
    "duration": 42,
    "start_time": "2021-08-03T07:21:30.830Z"
   },
   {
    "duration": 450,
    "start_time": "2021-08-03T07:21:30.874Z"
   },
   {
    "duration": 811,
    "start_time": "2021-08-03T07:21:31.326Z"
   },
   {
    "duration": 15,
    "start_time": "2021-08-03T07:21:32.140Z"
   },
   {
    "duration": 1269,
    "start_time": "2021-08-03T07:21:32.178Z"
   },
   {
    "duration": 9,
    "start_time": "2021-08-03T07:21:33.450Z"
   },
   {
    "duration": 26,
    "start_time": "2021-08-03T07:21:33.461Z"
   },
   {
    "duration": 8,
    "start_time": "2021-08-03T07:21:33.489Z"
   },
   {
    "duration": 17,
    "start_time": "2021-08-03T07:21:33.501Z"
   },
   {
    "duration": 9,
    "start_time": "2021-08-03T07:21:33.520Z"
   },
   {
    "duration": 24,
    "start_time": "2021-08-03T07:21:33.568Z"
   },
   {
    "duration": 22,
    "start_time": "2021-08-03T07:21:33.594Z"
   },
   {
    "duration": 50,
    "start_time": "2021-08-03T07:21:33.618Z"
   }
  ],
  "kernelspec": {
   "display_name": "Python 3",
   "language": "python",
   "name": "python3"
  },
  "language_info": {
   "codemirror_mode": {
    "name": "ipython",
    "version": 3
   },
   "file_extension": ".py",
   "mimetype": "text/x-python",
   "name": "python",
   "nbconvert_exporter": "python",
   "pygments_lexer": "ipython3",
   "version": "3.8.8"
  },
  "toc": {
   "base_numbering": 1,
   "nav_menu": {},
   "number_sections": true,
   "sideBar": true,
   "skip_h1_title": true,
   "title_cell": "Table of Contents",
   "title_sidebar": "Contents",
   "toc_cell": false,
   "toc_position": {},
   "toc_section_display": true,
   "toc_window_display": false
  }
 },
 "nbformat": 4,
 "nbformat_minor": 2
}
